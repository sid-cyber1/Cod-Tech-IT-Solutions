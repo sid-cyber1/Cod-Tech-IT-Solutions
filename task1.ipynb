{
  "nbformat": 4,
  "nbformat_minor": 0,
  "metadata": {
    "colab": {
      "provenance": []
    },
    "kernelspec": {
      "name": "python3",
      "display_name": "Python 3"
    },
    "language_info": {
      "name": "python"
    }
  },
  "cells": [
    {
      "cell_type": "code",
      "source": [
        "# moisture sensor input pin is 29"
      ],
      "metadata": {
        "id": "msv8HqEj9U6F"
      },
      "execution_count": 12,
      "outputs": []
    },
    {
      "cell_type": "code",
      "source": [
        "import time\n",
        "import RPi.GPIO as GPIO\n",
        "\n",
        "# setup -- pin 29 = moisture sensor;\n",
        "#Sensor: GPIO 29\n",
        "#GPIO 37\n",
        "#GPIO 38\n",
        "#Relay 1\n",
        "#Relay 2\n",
        "GPIO.setmode(GPIO.BOARD)\n",
        "GPIO.setup(29,GPIO.IN)\n",
        "GPIO.setup(37,GPIO.OUT)\n",
        "GPIO.setup(38,GPIO.OUT)\n",
        "\n",
        "#internal in minutes, water in seconds\n",
        "interval = 15\n",
        "water = 12\n",
        "\n",
        "try:\n",
        "    while True:\n",
        "        #Turn on moisture sensor to prevent corrosion\n",
        "        GPIO.output(38,True)\n",
        "        time.sleep(5)\n",
        "        #Check if dry, and if so open valve for watering time\n",
        "        if (GPIO.input(29))==1:\n",
        "            GPIO.output(37,True)\n",
        "            time.sleep(water)\n",
        "            GPIO.output(37,False)\n",
        "        #Turn off moisture sensor\n",
        "        GPIO.output(38,False)\n",
        "\n",
        "        #Wait for interval period\n",
        "        count_AA = 0\n",
        "        while count_AA < (interval * 2):\n",
        "            count_BB = 0\n",
        "            while count_BB < 5:\n",
        "                count_BB = count_BB + 1\n",
        "            time.sleep(25)\n",
        "            count_AA = count_AA + 1\n",
        "\n",
        "finally:\n",
        "    #cleanup the GPIO pins before ending\n",
        "    GPIO.cleanup()"
      ],
      "metadata": {
        "id": "TOqm40BPB4nV"
      },
      "execution_count": null,
      "outputs": []
    }
  ]
}